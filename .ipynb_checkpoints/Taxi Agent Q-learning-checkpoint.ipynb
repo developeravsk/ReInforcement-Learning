{
 "cells": [
  {
   "cell_type": "code",
   "execution_count": 1,
   "id": "fixed-aluminum",
   "metadata": {},
   "outputs": [],
   "source": [
    "# Load environment\n",
    "import gym\n",
    "env=gym.make(\"Taxi-v3\").env"
   ]
  },
  {
   "cell_type": "code",
   "execution_count": 2,
   "id": "noticed-princess",
   "metadata": {},
   "outputs": [],
   "source": [
    "import numpy as np"
   ]
  },
  {
   "cell_type": "code",
   "execution_count": 5,
   "id": "after-occupation",
   "metadata": {},
   "outputs": [],
   "source": [
    "class QAgent:\n",
    "    def __init__(self, env, alpha, gamma):\n",
    "        self.env=env\n",
    "        # qtable: n states* n actions\n",
    "        self.q_table=np.zeros([env.observation_space.n, env.action_space.n])\n",
    "        # hyperparameters\n",
    "        self.alpha=alpha\n",
    "        self.gamma=gamma\n",
    "        \n",
    "    def get_action(self, state):\n",
    "        return np.argmax(self.q_table[state])\n",
    "    \n",
    "    def update_parameters(self, state,action, reward, next_state):\n",
    "        #Q-learning formula\n",
    "        old_value=self.q_table[state,action]\n",
    "        next_max=np.max(self.q_table[next_state])\n",
    "        new_value=old_value+alpha*(reward+self.gamma*next_max-old_value)\n",
    "        self.q_table[state,action]=new_value"
   ]
  },
  {
   "cell_type": "code",
   "execution_count": 6,
   "id": "broken-basic",
   "metadata": {},
   "outputs": [],
   "source": [
    "# hyper-parameters\n",
    "# RL problems are full of these hyper-parameters.\n",
    "# For the moment, trust me when I set these values.\n",
    "# We will later play with these and see how they impact learning.\n",
    "alpha = 0.1\n",
    "gamma = 0.6\n",
    "\n",
    "agent = QAgent(env, alpha, gamma)"
   ]
  },
  {
   "cell_type": "code",
   "execution_count": 8,
   "id": "precise-bracket",
   "metadata": {},
   "outputs": [
    {
     "name": "stderr",
     "output_type": "stream",
     "text": [
      "  0%|          | 0/100 [00:00<?, ?it/s]\n"
     ]
    },
    {
     "ename": "TypeError",
     "evalue": "'numpy.ndarray' object is not callable",
     "output_type": "error",
     "traceback": [
      "\u001b[0;31m---------------------------------------------------------------------------\u001b[0m",
      "\u001b[0;31mTypeError\u001b[0m                                 Traceback (most recent call last)",
      "\u001b[0;32m<ipython-input-8-74a038b0fbf6>\u001b[0m in \u001b[0;36m<module>\u001b[0;34m\u001b[0m\n\u001b[1;32m     30\u001b[0m         \u001b[0mnext_state\u001b[0m\u001b[0;34m,\u001b[0m \u001b[0mreward\u001b[0m\u001b[0;34m,\u001b[0m \u001b[0mdone\u001b[0m\u001b[0;34m,\u001b[0m\u001b[0minfo\u001b[0m\u001b[0;34m=\u001b[0m\u001b[0menv\u001b[0m\u001b[0;34m.\u001b[0m\u001b[0mstep\u001b[0m\u001b[0;34m(\u001b[0m\u001b[0maction\u001b[0m\u001b[0;34m)\u001b[0m\u001b[0;34m\u001b[0m\u001b[0;34m\u001b[0m\u001b[0m\n\u001b[1;32m     31\u001b[0m \u001b[0;34m\u001b[0m\u001b[0m\n\u001b[0;32m---> 32\u001b[0;31m         \u001b[0magent\u001b[0m\u001b[0;34m.\u001b[0m\u001b[0mupdate_parameters\u001b[0m\u001b[0;34m(\u001b[0m\u001b[0mstate\u001b[0m\u001b[0;34m,\u001b[0m \u001b[0maction\u001b[0m\u001b[0;34m,\u001b[0m \u001b[0mrewards\u001b[0m\u001b[0;34m,\u001b[0m \u001b[0mnext_state\u001b[0m\u001b[0;34m)\u001b[0m\u001b[0;34m\u001b[0m\u001b[0;34m\u001b[0m\u001b[0m\n\u001b[0m\u001b[1;32m     33\u001b[0m \u001b[0;34m\u001b[0m\u001b[0m\n\u001b[1;32m     34\u001b[0m         \u001b[0;32mif\u001b[0m \u001b[0mreward\u001b[0m\u001b[0;34m==\u001b[0m\u001b[0;34m-\u001b[0m\u001b[0;36m10\u001b[0m\u001b[0;34m:\u001b[0m\u001b[0;34m\u001b[0m\u001b[0;34m\u001b[0m\u001b[0m\n",
      "\u001b[0;32m<ipython-input-5-78e3d09547a8>\u001b[0m in \u001b[0;36mupdate_parameters\u001b[0;34m(self, state, action, reward, next_state)\u001b[0m\n\u001b[1;32m     13\u001b[0m     \u001b[0;32mdef\u001b[0m \u001b[0mupdate_parameters\u001b[0m\u001b[0;34m(\u001b[0m\u001b[0mself\u001b[0m\u001b[0;34m,\u001b[0m \u001b[0mstate\u001b[0m\u001b[0;34m,\u001b[0m\u001b[0maction\u001b[0m\u001b[0;34m,\u001b[0m \u001b[0mreward\u001b[0m\u001b[0;34m,\u001b[0m \u001b[0mnext_state\u001b[0m\u001b[0;34m)\u001b[0m\u001b[0;34m:\u001b[0m\u001b[0;34m\u001b[0m\u001b[0;34m\u001b[0m\u001b[0m\n\u001b[1;32m     14\u001b[0m         \u001b[0;31m#Q-learning formula\u001b[0m\u001b[0;34m\u001b[0m\u001b[0;34m\u001b[0m\u001b[0;34m\u001b[0m\u001b[0m\n\u001b[0;32m---> 15\u001b[0;31m         \u001b[0mold_value\u001b[0m\u001b[0;34m=\u001b[0m\u001b[0mself\u001b[0m\u001b[0;34m.\u001b[0m\u001b[0mq_table\u001b[0m\u001b[0;34m(\u001b[0m\u001b[0mstate\u001b[0m\u001b[0;34m,\u001b[0m\u001b[0maction\u001b[0m\u001b[0;34m)\u001b[0m\u001b[0;34m\u001b[0m\u001b[0;34m\u001b[0m\u001b[0m\n\u001b[0m\u001b[1;32m     16\u001b[0m         \u001b[0mnext_max\u001b[0m\u001b[0;34m=\u001b[0m\u001b[0mnp\u001b[0m\u001b[0;34m.\u001b[0m\u001b[0mmax\u001b[0m\u001b[0;34m(\u001b[0m\u001b[0mself\u001b[0m\u001b[0;34m.\u001b[0m\u001b[0mq_table\u001b[0m\u001b[0;34m[\u001b[0m\u001b[0mnext_state\u001b[0m\u001b[0;34m]\u001b[0m\u001b[0;34m)\u001b[0m\u001b[0;34m\u001b[0m\u001b[0;34m\u001b[0m\u001b[0m\n\u001b[1;32m     17\u001b[0m         \u001b[0mnew_value\u001b[0m\u001b[0;34m=\u001b[0m\u001b[0mold_value\u001b[0m\u001b[0;34m+\u001b[0m\u001b[0malpha\u001b[0m\u001b[0;34m*\u001b[0m\u001b[0;34m(\u001b[0m\u001b[0mreward\u001b[0m\u001b[0;34m+\u001b[0m\u001b[0mself\u001b[0m\u001b[0;34m.\u001b[0m\u001b[0mgamma\u001b[0m\u001b[0;34m*\u001b[0m\u001b[0mnext_max\u001b[0m\u001b[0;34m-\u001b[0m\u001b[0mold_value\u001b[0m\u001b[0;34m)\u001b[0m\u001b[0;34m\u001b[0m\u001b[0;34m\u001b[0m\u001b[0m\n",
      "\u001b[0;31mTypeError\u001b[0m: 'numpy.ndarray' object is not callable"
     ]
    }
   ],
   "source": [
    "# training loop\n",
    "import random\n",
    "from tqdm import tqdm\n",
    "\n",
    "#exploration vs exploitation probability\n",
    "epsilon=0.1\n",
    "\n",
    "n_episodes=100\n",
    "\n",
    "\n",
    "# for plotting metrics\n",
    "timesteps_per_episode=[]\n",
    "penalties_per_episode=[]\n",
    "\n",
    "for i in tqdm(range(0, n_episodes)):\n",
    "    # reset environment\n",
    "    state=env.reset()\n",
    "    \n",
    "    epochs, penalties, rewards=0,0,0\n",
    "    done=False\n",
    "    \n",
    "    while not done:\n",
    "        if(random.uniform(0,1)<epsilon):\n",
    "            #explore action space\n",
    "            action=env.action_space.sample()\n",
    "        else:\n",
    "            #exploit learned values\n",
    "            action=agent.get_action(state)\n",
    "            \n",
    "        next_state, reward, done,info=env.step(action)\n",
    "        \n",
    "        agent.update_parameters(state, action, rewards, next_state)\n",
    "        \n",
    "        if reward==-10:\n",
    "            penalties+=1\n",
    "        \n",
    "        state=next_state\n",
    "        epochs+=1\n",
    "    \n",
    "    timesteps_per_episode.append(epochs)\n",
    "    penalties_per_episode.append(penalties)\n"
   ]
  },
  {
   "cell_type": "code",
   "execution_count": null,
   "id": "pleasant-disease",
   "metadata": {},
   "outputs": [],
   "source": []
  }
 ],
 "metadata": {
  "kernelspec": {
   "display_name": "Python 3 (ipykernel)",
   "language": "python",
   "name": "python3"
  },
  "language_info": {
   "codemirror_mode": {
    "name": "ipython",
    "version": 3
   },
   "file_extension": ".py",
   "mimetype": "text/x-python",
   "name": "python",
   "nbconvert_exporter": "python",
   "pygments_lexer": "ipython3",
   "version": "3.9.5"
  }
 },
 "nbformat": 4,
 "nbformat_minor": 5
}
