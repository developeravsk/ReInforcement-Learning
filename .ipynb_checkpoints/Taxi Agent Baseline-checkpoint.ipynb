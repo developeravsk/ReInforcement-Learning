{
 "cells": [
  {
   "cell_type": "code",
   "execution_count": 3,
   "id": "mineral-adobe",
   "metadata": {},
   "outputs": [],
   "source": [
    "# Load environment\n",
    "import gym\n",
    "env=gym.make(\"Taxi-v3\").env"
   ]
  },
  {
   "cell_type": "code",
   "execution_count": 4,
   "id": "instant-travel",
   "metadata": {},
   "outputs": [
    {
     "name": "stdout",
     "output_type": "stream",
     "text": [
      "Action space Discrete(6)\n"
     ]
    }
   ],
   "source": [
    "# Action space\n",
    "print(\"Action space {}\".format(env.action_space))"
   ]
  },
  {
   "cell_type": "code",
   "execution_count": 6,
   "id": "rolled-knight",
   "metadata": {},
   "outputs": [
    {
     "name": "stdout",
     "output_type": "stream",
     "text": [
      "State space Discrete(500)\n"
     ]
    }
   ],
   "source": [
    "# States\n",
    "print(\"State space {}\".format(env.observation_space))"
   ]
  },
  {
   "cell_type": "code",
   "execution_count": 14,
   "id": "fourth-agriculture",
   "metadata": {},
   "outputs": [
    {
     "name": "stdout",
     "output_type": "stream",
     "text": [
      "env.P[state][action][2]: (1.0, 323, -1, False)\n"
     ]
    }
   ],
   "source": [
    "# Rewards\n",
    "\n",
    "state=223 \n",
    "action=0 #drive down(south)\n",
    "\n",
    "print('env.P[state][action][2]:',env.P[state][action][0])"
   ]
  },
  {
   "cell_type": "code",
   "execution_count": 15,
   "id": "independent-zealand",
   "metadata": {},
   "outputs": [
    {
     "name": "stdout",
     "output_type": "stream",
     "text": [
      "+---------+\n",
      "|\u001b[34;1mR\u001b[0m: | : :G|\n",
      "| :\u001b[43m \u001b[0m| : : |\n",
      "| : : : : |\n",
      "| | : | : |\n",
      "|Y| : |\u001b[35mB\u001b[0m: |\n",
      "+---------+\n",
      "\n"
     ]
    }
   ],
   "source": [
    "# Need to call reset() at least once before render() will work\n",
    "env.reset()\n",
    "\n",
    "env.s = 123\n",
    "env.render(mode='human')"
   ]
  },
  {
   "cell_type": "code",
   "execution_count": 18,
   "id": "impaired-cable",
   "metadata": {},
   "outputs": [
    {
     "name": "stdout",
     "output_type": "stream",
     "text": [
      "+---------+\n",
      "|R: | : :\u001b[35m\u001b[34;1mG\u001b[0m\u001b[0m|\n",
      "| : | : : |\n",
      "| : : : : |\n",
      "| | : |\u001b[43m \u001b[0m: |\n",
      "|Y| : |B: |\n",
      "+---------+\n",
      "\n"
     ]
    }
   ],
   "source": [
    "# Need to call reset() at least once before render() will work\n",
    "env.reset()\n",
    "\n",
    "env.s = 365\n",
    "env.render(mode='human')"
   ]
  },
  {
   "cell_type": "code",
   "execution_count": 19,
   "id": "limiting-southwest",
   "metadata": {},
   "outputs": [],
   "source": [
    "# Random agent\n",
    "class RandomAgent:\n",
    "    def __init__(self, env):\n",
    "        self.env=env\n",
    "    \n",
    "    def get_action(self, state)-> int:\n",
    "        return self.env.action_space.sample()\n",
    "\n",
    "agent=RandomAgent(env)\n"
   ]
  },
  {
   "cell_type": "code",
   "execution_count": 21,
   "id": "developing-james",
   "metadata": {},
   "outputs": [
    {
     "name": "stdout",
     "output_type": "stream",
     "text": [
      "Timesteps taken: 2536\n",
      "Penalties incurred: 843\n"
     ]
    }
   ],
   "source": [
    "#Evaluate this driver starting at initial state=123\n",
    "state=123\n",
    "env.s=state\n",
    "\n",
    "epochs=0\n",
    "penalties=0 #wrong pick up or drop off\n",
    "reward=0\n",
    "\n",
    "#store frames to plot them later on\n",
    "frames=[]\n",
    "done=False\n",
    "\n",
    "while not done:\n",
    "    action=agent.get_action(state)\n",
    "    state, reward, done,info=env.step(action)\n",
    "    \n",
    "    if reward==-10:\n",
    "        penalties+=1\n",
    "    \n",
    "    frames.append({\n",
    "        'frame':env.render(mode=\"ansi\"),\n",
    "        'state':state,\n",
    "        'action':action,\n",
    "        'reward':reward\n",
    "    })\n",
    "    epochs+=1\n",
    "\n",
    "print(\"Timesteps taken: {}\".format(epochs))\n",
    "print(\"Penalties incurred: {}\".format(penalties))\n",
    "\n"
   ]
  },
  {
   "cell_type": "code",
   "execution_count": null,
   "id": "convinced-embassy",
   "metadata": {},
   "outputs": [],
   "source": [
    "from IPython.displa import clear_output\n",
    "from time import sleep"
   ]
  }
 ],
 "metadata": {
  "kernelspec": {
   "display_name": "Python 3 (ipykernel)",
   "language": "python",
   "name": "python3"
  },
  "language_info": {
   "codemirror_mode": {
    "name": "ipython",
    "version": 3
   },
   "file_extension": ".py",
   "mimetype": "text/x-python",
   "name": "python",
   "nbconvert_exporter": "python",
   "pygments_lexer": "ipython3",
   "version": "3.9.5"
  }
 },
 "nbformat": 4,
 "nbformat_minor": 5
}
